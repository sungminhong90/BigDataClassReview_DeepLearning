{
  "nbformat": 4,
  "nbformat_minor": 0,
  "metadata": {
    "colab": {
      "name": "2019_09_23_diabetes",
      "provenance": []
    },
    "kernelspec": {
      "name": "python3",
      "display_name": "Python 3"
    }
  },
  "cells": [
    {
      "cell_type": "code",
      "metadata": {
        "id": "6J9PHHofXeIv",
        "colab_type": "code",
        "colab": {}
      },
      "source": [
        "import numpy as np\n",
        "from keras.utils import np_utils\n",
        "from keras.models import Sequential\n",
        "from keras.layers import Dense, Activation\n",
        "from urllib import request\n",
        "import matplotlib.pyplot as plt\n",
        "%matplotlib inline"
      ],
      "execution_count": 0,
      "outputs": []
    },
    {
      "cell_type": "code",
      "metadata": {
        "id": "07K9a7Xhh7hQ",
        "colab_type": "code",
        "outputId": "c775be0d-b43a-49e9-e3b1-aa957973fbbe",
        "colab": {
          "resources": {
            "http://localhost:8080/nbextensions/google.colab/files.js": {
              "data": "Ly8gQ29weXJpZ2h0IDIwMTcgR29vZ2xlIExMQwovLwovLyBMaWNlbnNlZCB1bmRlciB0aGUgQXBhY2hlIExpY2Vuc2UsIFZlcnNpb24gMi4wICh0aGUgIkxpY2Vuc2UiKTsKLy8geW91IG1heSBub3QgdXNlIHRoaXMgZmlsZSBleGNlcHQgaW4gY29tcGxpYW5jZSB3aXRoIHRoZSBMaWNlbnNlLgovLyBZb3UgbWF5IG9idGFpbiBhIGNvcHkgb2YgdGhlIExpY2Vuc2UgYXQKLy8KLy8gICAgICBodHRwOi8vd3d3LmFwYWNoZS5vcmcvbGljZW5zZXMvTElDRU5TRS0yLjAKLy8KLy8gVW5sZXNzIHJlcXVpcmVkIGJ5IGFwcGxpY2FibGUgbGF3IG9yIGFncmVlZCB0byBpbiB3cml0aW5nLCBzb2Z0d2FyZQovLyBkaXN0cmlidXRlZCB1bmRlciB0aGUgTGljZW5zZSBpcyBkaXN0cmlidXRlZCBvbiBhbiAiQVMgSVMiIEJBU0lTLAovLyBXSVRIT1VUIFdBUlJBTlRJRVMgT1IgQ09ORElUSU9OUyBPRiBBTlkgS0lORCwgZWl0aGVyIGV4cHJlc3Mgb3IgaW1wbGllZC4KLy8gU2VlIHRoZSBMaWNlbnNlIGZvciB0aGUgc3BlY2lmaWMgbGFuZ3VhZ2UgZ292ZXJuaW5nIHBlcm1pc3Npb25zIGFuZAovLyBsaW1pdGF0aW9ucyB1bmRlciB0aGUgTGljZW5zZS4KCi8qKgogKiBAZmlsZW92ZXJ2aWV3IEhlbHBlcnMgZm9yIGdvb2dsZS5jb2xhYiBQeXRob24gbW9kdWxlLgogKi8KKGZ1bmN0aW9uKHNjb3BlKSB7CmZ1bmN0aW9uIHNwYW4odGV4dCwgc3R5bGVBdHRyaWJ1dGVzID0ge30pIHsKICBjb25zdCBlbGVtZW50ID0gZG9jdW1lbnQuY3JlYXRlRWxlbWVudCgnc3BhbicpOwogIGVsZW1lbnQudGV4dENvbnRlbnQgPSB0ZXh0OwogIGZvciAoY29uc3Qga2V5IG9mIE9iamVjdC5rZXlzKHN0eWxlQXR0cmlidXRlcykpIHsKICAgIGVsZW1lbnQuc3R5bGVba2V5XSA9IHN0eWxlQXR0cmlidXRlc1trZXldOwogIH0KICByZXR1cm4gZWxlbWVudDsKfQoKLy8gTWF4IG51bWJlciBvZiBieXRlcyB3aGljaCB3aWxsIGJlIHVwbG9hZGVkIGF0IGEgdGltZS4KY29uc3QgTUFYX1BBWUxPQURfU0laRSA9IDEwMCAqIDEwMjQ7Ci8vIE1heCBhbW91bnQgb2YgdGltZSB0byBibG9jayB3YWl0aW5nIGZvciB0aGUgdXNlci4KY29uc3QgRklMRV9DSEFOR0VfVElNRU9VVF9NUyA9IDMwICogMTAwMDsKCmZ1bmN0aW9uIF91cGxvYWRGaWxlcyhpbnB1dElkLCBvdXRwdXRJZCkgewogIGNvbnN0IHN0ZXBzID0gdXBsb2FkRmlsZXNTdGVwKGlucHV0SWQsIG91dHB1dElkKTsKICBjb25zdCBvdXRwdXRFbGVtZW50ID0gZG9jdW1lbnQuZ2V0RWxlbWVudEJ5SWQob3V0cHV0SWQpOwogIC8vIENhY2hlIHN0ZXBzIG9uIHRoZSBvdXRwdXRFbGVtZW50IHRvIG1ha2UgaXQgYXZhaWxhYmxlIGZvciB0aGUgbmV4dCBjYWxsCiAgLy8gdG8gdXBsb2FkRmlsZXNDb250aW51ZSBmcm9tIFB5dGhvbi4KICBvdXRwdXRFbGVtZW50LnN0ZXBzID0gc3RlcHM7CgogIHJldHVybiBfdXBsb2FkRmlsZXNDb250aW51ZShvdXRwdXRJZCk7Cn0KCi8vIFRoaXMgaXMgcm91Z2hseSBhbiBhc3luYyBnZW5lcmF0b3IgKG5vdCBzdXBwb3J0ZWQgaW4gdGhlIGJyb3dzZXIgeWV0KSwKLy8gd2hlcmUgdGhlcmUgYXJlIG11bHRpcGxlIGFzeW5jaHJvbm91cyBzdGVwcyBhbmQgdGhlIFB5dGhvbiBzaWRlIGlzIGdvaW5nCi8vIHRvIHBvbGwgZm9yIGNvbXBsZXRpb24gb2YgZWFjaCBzdGVwLgovLyBUaGlzIHVzZXMgYSBQcm9taXNlIHRvIGJsb2NrIHRoZSBweXRob24gc2lkZSBvbiBjb21wbGV0aW9uIG9mIGVhY2ggc3RlcCwKLy8gdGhlbiBwYXNzZXMgdGhlIHJlc3VsdCBvZiB0aGUgcHJldmlvdXMgc3RlcCBhcyB0aGUgaW5wdXQgdG8gdGhlIG5leHQgc3RlcC4KZnVuY3Rpb24gX3VwbG9hZEZpbGVzQ29udGludWUob3V0cHV0SWQpIHsKICBjb25zdCBvdXRwdXRFbGVtZW50ID0gZG9jdW1lbnQuZ2V0RWxlbWVudEJ5SWQob3V0cHV0SWQpOwogIGNvbnN0IHN0ZXBzID0gb3V0cHV0RWxlbWVudC5zdGVwczsKCiAgY29uc3QgbmV4dCA9IHN0ZXBzLm5leHQob3V0cHV0RWxlbWVudC5sYXN0UHJvbWlzZVZhbHVlKTsKICByZXR1cm4gUHJvbWlzZS5yZXNvbHZlKG5leHQudmFsdWUucHJvbWlzZSkudGhlbigodmFsdWUpID0+IHsKICAgIC8vIENhY2hlIHRoZSBsYXN0IHByb21pc2UgdmFsdWUgdG8gbWFrZSBpdCBhdmFpbGFibGUgdG8gdGhlIG5leHQKICAgIC8vIHN0ZXAgb2YgdGhlIGdlbmVyYXRvci4KICAgIG91dHB1dEVsZW1lbnQubGFzdFByb21pc2VWYWx1ZSA9IHZhbHVlOwogICAgcmV0dXJuIG5leHQudmFsdWUucmVzcG9uc2U7CiAgfSk7Cn0KCi8qKgogKiBHZW5lcmF0b3IgZnVuY3Rpb24gd2hpY2ggaXMgY2FsbGVkIGJldHdlZW4gZWFjaCBhc3luYyBzdGVwIG9mIHRoZSB1cGxvYWQKICogcHJvY2Vzcy4KICogQHBhcmFtIHtzdHJpbmd9IGlucHV0SWQgRWxlbWVudCBJRCBvZiB0aGUgaW5wdXQgZmlsZSBwaWNrZXIgZWxlbWVudC4KICogQHBhcmFtIHtzdHJpbmd9IG91dHB1dElkIEVsZW1lbnQgSUQgb2YgdGhlIG91dHB1dCBkaXNwbGF5LgogKiBAcmV0dXJuIHshSXRlcmFibGU8IU9iamVjdD59IEl0ZXJhYmxlIG9mIG5leHQgc3RlcHMuCiAqLwpmdW5jdGlvbiogdXBsb2FkRmlsZXNTdGVwKGlucHV0SWQsIG91dHB1dElkKSB7CiAgY29uc3QgaW5wdXRFbGVtZW50ID0gZG9jdW1lbnQuZ2V0RWxlbWVudEJ5SWQoaW5wdXRJZCk7CiAgaW5wdXRFbGVtZW50LmRpc2FibGVkID0gZmFsc2U7CgogIGNvbnN0IG91dHB1dEVsZW1lbnQgPSBkb2N1bWVudC5nZXRFbGVtZW50QnlJZChvdXRwdXRJZCk7CiAgb3V0cHV0RWxlbWVudC5pbm5lckhUTUwgPSAnJzsKCiAgY29uc3QgcGlja2VkUHJvbWlzZSA9IG5ldyBQcm9taXNlKChyZXNvbHZlKSA9PiB7CiAgICBpbnB1dEVsZW1lbnQuYWRkRXZlbnRMaXN0ZW5lcignY2hhbmdlJywgKGUpID0+IHsKICAgICAgcmVzb2x2ZShlLnRhcmdldC5maWxlcyk7CiAgICB9KTsKICB9KTsKCiAgY29uc3QgY2FuY2VsID0gZG9jdW1lbnQuY3JlYXRlRWxlbWVudCgnYnV0dG9uJyk7CiAgaW5wdXRFbGVtZW50LnBhcmVudEVsZW1lbnQuYXBwZW5kQ2hpbGQoY2FuY2VsKTsKICBjYW5jZWwudGV4dENvbnRlbnQgPSAnQ2FuY2VsIHVwbG9hZCc7CiAgY29uc3QgY2FuY2VsUHJvbWlzZSA9IG5ldyBQcm9taXNlKChyZXNvbHZlKSA9PiB7CiAgICBjYW5jZWwub25jbGljayA9ICgpID0+IHsKICAgICAgcmVzb2x2ZShudWxsKTsKICAgIH07CiAgfSk7CgogIC8vIENhbmNlbCB1cGxvYWQgaWYgdXNlciBoYXNuJ3QgcGlja2VkIGFueXRoaW5nIGluIHRpbWVvdXQuCiAgY29uc3QgdGltZW91dFByb21pc2UgPSBuZXcgUHJvbWlzZSgocmVzb2x2ZSkgPT4gewogICAgc2V0VGltZW91dCgoKSA9PiB7CiAgICAgIHJlc29sdmUobnVsbCk7CiAgICB9LCBGSUxFX0NIQU5HRV9USU1FT1VUX01TKTsKICB9KTsKCiAgLy8gV2FpdCBmb3IgdGhlIHVzZXIgdG8gcGljayB0aGUgZmlsZXMuCiAgY29uc3QgZmlsZXMgPSB5aWVsZCB7CiAgICBwcm9taXNlOiBQcm9taXNlLnJhY2UoW3BpY2tlZFByb21pc2UsIHRpbWVvdXRQcm9taXNlLCBjYW5jZWxQcm9taXNlXSksCiAgICByZXNwb25zZTogewogICAgICBhY3Rpb246ICdzdGFydGluZycsCiAgICB9CiAgfTsKCiAgaWYgKCFmaWxlcykgewogICAgcmV0dXJuIHsKICAgICAgcmVzcG9uc2U6IHsKICAgICAgICBhY3Rpb246ICdjb21wbGV0ZScsCiAgICAgIH0KICAgIH07CiAgfQoKICBjYW5jZWwucmVtb3ZlKCk7CgogIC8vIERpc2FibGUgdGhlIGlucHV0IGVsZW1lbnQgc2luY2UgZnVydGhlciBwaWNrcyBhcmUgbm90IGFsbG93ZWQuCiAgaW5wdXRFbGVtZW50LmRpc2FibGVkID0gdHJ1ZTsKCiAgZm9yIChjb25zdCBmaWxlIG9mIGZpbGVzKSB7CiAgICBjb25zdCBsaSA9IGRvY3VtZW50LmNyZWF0ZUVsZW1lbnQoJ2xpJyk7CiAgICBsaS5hcHBlbmQoc3BhbihmaWxlLm5hbWUsIHtmb250V2VpZ2h0OiAnYm9sZCd9KSk7CiAgICBsaS5hcHBlbmQoc3BhbigKICAgICAgICBgKCR7ZmlsZS50eXBlIHx8ICduL2EnfSkgLSAke2ZpbGUuc2l6ZX0gYnl0ZXMsIGAgKwogICAgICAgIGBsYXN0IG1vZGlmaWVkOiAkewogICAgICAgICAgICBmaWxlLmxhc3RNb2RpZmllZERhdGUgPyBmaWxlLmxhc3RNb2RpZmllZERhdGUudG9Mb2NhbGVEYXRlU3RyaW5nKCkgOgogICAgICAgICAgICAgICAgICAgICAgICAgICAgICAgICAgICAnbi9hJ30gLSBgKSk7CiAgICBjb25zdCBwZXJjZW50ID0gc3BhbignMCUgZG9uZScpOwogICAgbGkuYXBwZW5kQ2hpbGQocGVyY2VudCk7CgogICAgb3V0cHV0RWxlbWVudC5hcHBlbmRDaGlsZChsaSk7CgogICAgY29uc3QgZmlsZURhdGFQcm9taXNlID0gbmV3IFByb21pc2UoKHJlc29sdmUpID0+IHsKICAgICAgY29uc3QgcmVhZGVyID0gbmV3IEZpbGVSZWFkZXIoKTsKICAgICAgcmVhZGVyLm9ubG9hZCA9IChlKSA9PiB7CiAgICAgICAgcmVzb2x2ZShlLnRhcmdldC5yZXN1bHQpOwogICAgICB9OwogICAgICByZWFkZXIucmVhZEFzQXJyYXlCdWZmZXIoZmlsZSk7CiAgICB9KTsKICAgIC8vIFdhaXQgZm9yIHRoZSBkYXRhIHRvIGJlIHJlYWR5LgogICAgbGV0IGZpbGVEYXRhID0geWllbGQgewogICAgICBwcm9taXNlOiBmaWxlRGF0YVByb21pc2UsCiAgICAgIHJlc3BvbnNlOiB7CiAgICAgICAgYWN0aW9uOiAnY29udGludWUnLAogICAgICB9CiAgICB9OwoKICAgIC8vIFVzZSBhIGNodW5rZWQgc2VuZGluZyB0byBhdm9pZCBtZXNzYWdlIHNpemUgbGltaXRzLiBTZWUgYi82MjExNTY2MC4KICAgIGxldCBwb3NpdGlvbiA9IDA7CiAgICB3aGlsZSAocG9zaXRpb24gPCBmaWxlRGF0YS5ieXRlTGVuZ3RoKSB7CiAgICAgIGNvbnN0IGxlbmd0aCA9IE1hdGgubWluKGZpbGVEYXRhLmJ5dGVMZW5ndGggLSBwb3NpdGlvbiwgTUFYX1BBWUxPQURfU0laRSk7CiAgICAgIGNvbnN0IGNodW5rID0gbmV3IFVpbnQ4QXJyYXkoZmlsZURhdGEsIHBvc2l0aW9uLCBsZW5ndGgpOwogICAgICBwb3NpdGlvbiArPSBsZW5ndGg7CgogICAgICBjb25zdCBiYXNlNjQgPSBidG9hKFN0cmluZy5mcm9tQ2hhckNvZGUuYXBwbHkobnVsbCwgY2h1bmspKTsKICAgICAgeWllbGQgewogICAgICAgIHJlc3BvbnNlOiB7CiAgICAgICAgICBhY3Rpb246ICdhcHBlbmQnLAogICAgICAgICAgZmlsZTogZmlsZS5uYW1lLAogICAgICAgICAgZGF0YTogYmFzZTY0LAogICAgICAgIH0sCiAgICAgIH07CiAgICAgIHBlcmNlbnQudGV4dENvbnRlbnQgPQogICAgICAgICAgYCR7TWF0aC5yb3VuZCgocG9zaXRpb24gLyBmaWxlRGF0YS5ieXRlTGVuZ3RoKSAqIDEwMCl9JSBkb25lYDsKICAgIH0KICB9CgogIC8vIEFsbCBkb25lLgogIHlpZWxkIHsKICAgIHJlc3BvbnNlOiB7CiAgICAgIGFjdGlvbjogJ2NvbXBsZXRlJywKICAgIH0KICB9Owp9CgpzY29wZS5nb29nbGUgPSBzY29wZS5nb29nbGUgfHwge307CnNjb3BlLmdvb2dsZS5jb2xhYiA9IHNjb3BlLmdvb2dsZS5jb2xhYiB8fCB7fTsKc2NvcGUuZ29vZ2xlLmNvbGFiLl9maWxlcyA9IHsKICBfdXBsb2FkRmlsZXMsCiAgX3VwbG9hZEZpbGVzQ29udGludWUsCn07Cn0pKHNlbGYpOwo=",
              "ok": true,
              "headers": [
                [
                  "content-type",
                  "application/javascript"
                ]
              ],
              "status": 200,
              "status_text": ""
            }
          },
          "base_uri": "https://localhost:8080/",
          "height": 96
        }
      },
      "source": [
        "from google.colab import files\n",
        "uploaded = files.upload()\n",
        "\n",
        "for fn in uploaded.keys():\n",
        "  print('User uploaded file \"{name}\" with length {length} bytes'.format(name = fn, length=len(uploaded[fn])))"
      ],
      "execution_count": 0,
      "outputs": [
        {
          "output_type": "display_data",
          "data": {
            "text/html": [
              "\n",
              "     <input type=\"file\" id=\"files-1f333d29-d5d3-4584-be41-3199565ac3b1\" name=\"files[]\" multiple disabled />\n",
              "     <output id=\"result-1f333d29-d5d3-4584-be41-3199565ac3b1\">\n",
              "      Upload widget is only available when the cell has been executed in the\n",
              "      current browser session. Please rerun this cell to enable.\n",
              "      </output>\n",
              "      <script src=\"/nbextensions/google.colab/files.js\"></script> "
            ],
            "text/plain": [
              "<IPython.core.display.HTML object>"
            ]
          },
          "metadata": {
            "tags": []
          }
        },
        {
          "output_type": "stream",
          "text": [
            "Saving pima-indians-diabetes.csv to pima-indians-diabetes (1).csv\n",
            "User uploaded file \"pima-indians-diabetes.csv\" with length 24045 bytes\n"
          ],
          "name": "stdout"
        }
      ]
    },
    {
      "cell_type": "code",
      "metadata": {
        "id": "WHUN1rs7igUw",
        "colab_type": "code",
        "outputId": "2410b35c-fcec-43ac-bf4f-cc8af43aff84",
        "colab": {
          "base_uri": "https://localhost:8080/",
          "height": 35
        }
      },
      "source": [
        "!ls"
      ],
      "execution_count": 0,
      "outputs": [
        {
          "output_type": "stream",
          "text": [
            "'pima-indians-diabetes (1).csv'   pima-indians-diabetes.csv   sample_data\n"
          ],
          "name": "stdout"
        }
      ]
    },
    {
      "cell_type": "code",
      "metadata": {
        "id": "K6YbAbL8jRxC",
        "colab_type": "code",
        "colab": {}
      },
      "source": [
        "dataset = np.loadtxt('pima-indians-diabetes.csv', delimiter = \",\")"
      ],
      "execution_count": 0,
      "outputs": []
    },
    {
      "cell_type": "code",
      "metadata": {
        "id": "exkfhyjEj0wD",
        "colab_type": "code",
        "colab": {}
      },
      "source": [
        "#데이터 셋 설정하기\n",
        "\n",
        "x_train = dataset[:700, 0:8]\n",
        "y_train = dataset[:700, 8]\n",
        "x_test = dataset[700:, 0:8]\n",
        "y_test = dataset[700:, 8]"
      ],
      "execution_count": 0,
      "outputs": []
    },
    {
      "cell_type": "code",
      "metadata": {
        "id": "0obW2zAtkKwB",
        "colab_type": "code",
        "outputId": "1db0f822-e0c5-4b2d-e01b-496e28f14900",
        "colab": {
          "base_uri": "https://localhost:8080/",
          "height": 89
        }
      },
      "source": [
        "y_test"
      ],
      "execution_count": 0,
      "outputs": [
        {
          "output_type": "execute_result",
          "data": {
            "text/plain": [
              "array([0., 1., 1., 0., 0., 0., 1., 0., 1., 1., 0., 0., 1., 0., 0., 1., 1.,\n",
              "       0., 0., 1., 0., 0., 1., 0., 0., 0., 0., 0., 0., 0., 1., 1., 1., 0.,\n",
              "       0., 0., 0., 0., 0., 1., 1., 0., 0., 1., 0., 0., 1., 0., 1., 1., 1.,\n",
              "       0., 0., 1., 1., 1., 0., 1., 0., 1., 0., 1., 0., 0., 0., 0., 1., 0.])"
            ]
          },
          "metadata": {
            "tags": []
          },
          "execution_count": 58
        }
      ]
    },
    {
      "cell_type": "code",
      "metadata": {
        "id": "_aUMxlDUkRLp",
        "colab_type": "code",
        "colab": {}
      },
      "source": [
        "#모델 구성하기\n",
        "model = Sequential()\n",
        "model.add(Dense(12, input_dim=8, activation = 'relu'))\n",
        "model.add(Dense(8, activation = 'relu'))\n",
        "model.add(Dense(1, activation = 'sigmoid'))"
      ],
      "execution_count": 0,
      "outputs": []
    },
    {
      "cell_type": "code",
      "metadata": {
        "id": "LbrARZyFkkLJ",
        "colab_type": "code",
        "colab": {}
      },
      "source": [
        "#모델 학습과정 설정하기\n",
        "model.compile(loss = 'binary_crossentropy', optimizer = 'adam', metrics = ['accuracy'])"
      ],
      "execution_count": 0,
      "outputs": []
    },
    {
      "cell_type": "code",
      "metadata": {
        "id": "0y5bdOmnlNhC",
        "colab_type": "code",
        "outputId": "178a1ad8-8ee3-4ca7-db67-b90582d1aaab",
        "colab": {
          "base_uri": "https://localhost:8080/",
          "height": 1000
        }
      },
      "source": [
        "#모델 학습시키기\n",
        "hist = model.fit(x_train,y_train,epochs =200, batch_size=32)"
      ],
      "execution_count": 0,
      "outputs": [
        {
          "output_type": "stream",
          "text": [
            "Epoch 1/200\n",
            "700/700 [==============================] - 0s 386us/step - loss: 4.5563 - acc: 0.6571\n",
            "Epoch 2/200\n",
            "700/700 [==============================] - 0s 42us/step - loss: 3.3065 - acc: 0.6586\n",
            "Epoch 3/200\n",
            "700/700 [==============================] - 0s 46us/step - loss: 1.6315 - acc: 0.6514\n",
            "Epoch 4/200\n",
            "700/700 [==============================] - 0s 51us/step - loss: 0.9137 - acc: 0.6371\n",
            "Epoch 5/200\n",
            "700/700 [==============================] - 0s 45us/step - loss: 0.7668 - acc: 0.5857\n",
            "Epoch 6/200\n",
            "700/700 [==============================] - 0s 48us/step - loss: 0.7256 - acc: 0.5671\n",
            "Epoch 7/200\n",
            "700/700 [==============================] - 0s 53us/step - loss: 0.7016 - acc: 0.5929\n",
            "Epoch 8/200\n",
            "700/700 [==============================] - 0s 46us/step - loss: 0.6772 - acc: 0.6329\n",
            "Epoch 9/200\n",
            "700/700 [==============================] - 0s 42us/step - loss: 0.6646 - acc: 0.6486\n",
            "Epoch 10/200\n",
            "700/700 [==============================] - 0s 46us/step - loss: 0.6551 - acc: 0.6429\n",
            "Epoch 11/200\n",
            "700/700 [==============================] - 0s 41us/step - loss: 0.6474 - acc: 0.6600\n",
            "Epoch 12/200\n",
            "700/700 [==============================] - 0s 47us/step - loss: 0.6436 - acc: 0.6614\n",
            "Epoch 13/200\n",
            "700/700 [==============================] - 0s 55us/step - loss: 0.6418 - acc: 0.6714\n",
            "Epoch 14/200\n",
            "700/700 [==============================] - 0s 45us/step - loss: 0.6385 - acc: 0.6600\n",
            "Epoch 15/200\n",
            "700/700 [==============================] - 0s 43us/step - loss: 0.6373 - acc: 0.6671\n",
            "Epoch 16/200\n",
            "700/700 [==============================] - 0s 46us/step - loss: 0.6357 - acc: 0.6586\n",
            "Epoch 17/200\n",
            "700/700 [==============================] - 0s 44us/step - loss: 0.6337 - acc: 0.6657\n",
            "Epoch 18/200\n",
            "700/700 [==============================] - 0s 44us/step - loss: 0.6319 - acc: 0.6614\n",
            "Epoch 19/200\n",
            "700/700 [==============================] - 0s 48us/step - loss: 0.6306 - acc: 0.6671\n",
            "Epoch 20/200\n",
            "700/700 [==============================] - 0s 44us/step - loss: 0.6297 - acc: 0.6543\n",
            "Epoch 21/200\n",
            "700/700 [==============================] - 0s 45us/step - loss: 0.6256 - acc: 0.6586\n",
            "Epoch 22/200\n",
            "700/700 [==============================] - 0s 49us/step - loss: 0.6250 - acc: 0.6586\n",
            "Epoch 23/200\n",
            "700/700 [==============================] - 0s 47us/step - loss: 0.6242 - acc: 0.6586\n",
            "Epoch 24/200\n",
            "700/700 [==============================] - 0s 43us/step - loss: 0.6214 - acc: 0.6586\n",
            "Epoch 25/200\n",
            "700/700 [==============================] - 0s 46us/step - loss: 0.6200 - acc: 0.6586\n",
            "Epoch 26/200\n",
            "700/700 [==============================] - 0s 45us/step - loss: 0.6198 - acc: 0.6586\n",
            "Epoch 27/200\n",
            "700/700 [==============================] - 0s 43us/step - loss: 0.6177 - acc: 0.6586\n",
            "Epoch 28/200\n",
            "700/700 [==============================] - 0s 53us/step - loss: 0.6171 - acc: 0.6571\n",
            "Epoch 29/200\n",
            "700/700 [==============================] - 0s 47us/step - loss: 0.6163 - acc: 0.6571\n",
            "Epoch 30/200\n",
            "700/700 [==============================] - 0s 43us/step - loss: 0.6142 - acc: 0.6571\n",
            "Epoch 31/200\n",
            "700/700 [==============================] - 0s 52us/step - loss: 0.6141 - acc: 0.6586\n",
            "Epoch 32/200\n",
            "700/700 [==============================] - 0s 45us/step - loss: 0.6113 - acc: 0.6586\n",
            "Epoch 33/200\n",
            "700/700 [==============================] - 0s 45us/step - loss: 0.6098 - acc: 0.6586\n",
            "Epoch 34/200\n",
            "700/700 [==============================] - 0s 43us/step - loss: 0.6084 - acc: 0.6586\n",
            "Epoch 35/200\n",
            "700/700 [==============================] - 0s 45us/step - loss: 0.6078 - acc: 0.6586\n",
            "Epoch 36/200\n",
            "700/700 [==============================] - 0s 46us/step - loss: 0.6060 - acc: 0.6571\n",
            "Epoch 37/200\n",
            "700/700 [==============================] - 0s 52us/step - loss: 0.6064 - acc: 0.6571\n",
            "Epoch 38/200\n",
            "700/700 [==============================] - 0s 45us/step - loss: 0.6036 - acc: 0.6586\n",
            "Epoch 39/200\n",
            "700/700 [==============================] - 0s 46us/step - loss: 0.6023 - acc: 0.6586\n",
            "Epoch 40/200\n",
            "700/700 [==============================] - 0s 42us/step - loss: 0.6021 - acc: 0.6586\n",
            "Epoch 41/200\n",
            "700/700 [==============================] - 0s 42us/step - loss: 0.6005 - acc: 0.6586\n",
            "Epoch 42/200\n",
            "700/700 [==============================] - 0s 44us/step - loss: 0.5989 - acc: 0.6586\n",
            "Epoch 43/200\n",
            "700/700 [==============================] - 0s 48us/step - loss: 0.5987 - acc: 0.6586\n",
            "Epoch 44/200\n",
            "700/700 [==============================] - 0s 43us/step - loss: 0.5981 - acc: 0.6586\n",
            "Epoch 45/200\n",
            "700/700 [==============================] - 0s 46us/step - loss: 0.5960 - acc: 0.6586\n",
            "Epoch 46/200\n",
            "700/700 [==============================] - 0s 43us/step - loss: 0.5959 - acc: 0.6586\n",
            "Epoch 47/200\n",
            "700/700 [==============================] - 0s 51us/step - loss: 0.5944 - acc: 0.6600\n",
            "Epoch 48/200\n",
            "700/700 [==============================] - 0s 44us/step - loss: 0.5939 - acc: 0.6571\n",
            "Epoch 49/200\n",
            "700/700 [==============================] - 0s 61us/step - loss: 0.5943 - acc: 0.6600\n",
            "Epoch 50/200\n",
            "700/700 [==============================] - 0s 45us/step - loss: 0.5934 - acc: 0.6600\n",
            "Epoch 51/200\n",
            "700/700 [==============================] - 0s 49us/step - loss: 0.5907 - acc: 0.6600\n",
            "Epoch 52/200\n",
            "700/700 [==============================] - 0s 42us/step - loss: 0.5908 - acc: 0.6571\n",
            "Epoch 53/200\n",
            "700/700 [==============================] - 0s 43us/step - loss: 0.5909 - acc: 0.6586\n",
            "Epoch 54/200\n",
            "700/700 [==============================] - 0s 55us/step - loss: 0.5890 - acc: 0.6586\n",
            "Epoch 55/200\n",
            "700/700 [==============================] - 0s 42us/step - loss: 0.5878 - acc: 0.6600\n",
            "Epoch 56/200\n",
            "700/700 [==============================] - 0s 44us/step - loss: 0.5869 - acc: 0.6586\n",
            "Epoch 57/200\n",
            "700/700 [==============================] - 0s 47us/step - loss: 0.5868 - acc: 0.6614\n",
            "Epoch 58/200\n",
            "700/700 [==============================] - 0s 51us/step - loss: 0.5854 - acc: 0.6600\n",
            "Epoch 59/200\n",
            "700/700 [==============================] - 0s 43us/step - loss: 0.5867 - acc: 0.6600\n",
            "Epoch 60/200\n",
            "700/700 [==============================] - 0s 50us/step - loss: 0.5857 - acc: 0.6586\n",
            "Epoch 61/200\n",
            "700/700 [==============================] - 0s 51us/step - loss: 0.5829 - acc: 0.6600\n",
            "Epoch 62/200\n",
            "700/700 [==============================] - 0s 48us/step - loss: 0.5828 - acc: 0.6600\n",
            "Epoch 63/200\n",
            "700/700 [==============================] - 0s 41us/step - loss: 0.5819 - acc: 0.6600\n",
            "Epoch 64/200\n",
            "700/700 [==============================] - 0s 51us/step - loss: 0.5830 - acc: 0.6600\n",
            "Epoch 65/200\n",
            "700/700 [==============================] - 0s 49us/step - loss: 0.5801 - acc: 0.6600\n",
            "Epoch 66/200\n",
            "700/700 [==============================] - 0s 54us/step - loss: 0.5805 - acc: 0.6600\n",
            "Epoch 67/200\n",
            "700/700 [==============================] - 0s 44us/step - loss: 0.5791 - acc: 0.6600\n",
            "Epoch 68/200\n",
            "700/700 [==============================] - 0s 45us/step - loss: 0.5796 - acc: 0.6600\n",
            "Epoch 69/200\n",
            "700/700 [==============================] - 0s 47us/step - loss: 0.5784 - acc: 0.6600\n",
            "Epoch 70/200\n",
            "700/700 [==============================] - 0s 45us/step - loss: 0.5794 - acc: 0.6586\n",
            "Epoch 71/200\n",
            "700/700 [==============================] - 0s 42us/step - loss: 0.5808 - acc: 0.6614\n",
            "Epoch 72/200\n",
            "700/700 [==============================] - 0s 42us/step - loss: 0.5787 - acc: 0.6586\n",
            "Epoch 73/200\n",
            "700/700 [==============================] - 0s 51us/step - loss: 0.5740 - acc: 0.6614\n",
            "Epoch 74/200\n",
            "700/700 [==============================] - 0s 52us/step - loss: 0.5736 - acc: 0.6614\n",
            "Epoch 75/200\n",
            "700/700 [==============================] - 0s 42us/step - loss: 0.5711 - acc: 0.6614\n",
            "Epoch 76/200\n",
            "700/700 [==============================] - 0s 45us/step - loss: 0.5729 - acc: 0.6614\n",
            "Epoch 77/200\n",
            "700/700 [==============================] - 0s 42us/step - loss: 0.5705 - acc: 0.6614\n",
            "Epoch 78/200\n",
            "700/700 [==============================] - 0s 47us/step - loss: 0.5725 - acc: 0.6586\n",
            "Epoch 79/200\n",
            "700/700 [==============================] - 0s 42us/step - loss: 0.5700 - acc: 0.6614\n",
            "Epoch 80/200\n",
            "700/700 [==============================] - 0s 51us/step - loss: 0.5713 - acc: 0.6600\n",
            "Epoch 81/200\n",
            "700/700 [==============================] - 0s 47us/step - loss: 0.5697 - acc: 0.6600\n",
            "Epoch 82/200\n",
            "700/700 [==============================] - 0s 44us/step - loss: 0.5706 - acc: 0.6600\n",
            "Epoch 83/200\n",
            "700/700 [==============================] - 0s 47us/step - loss: 0.5710 - acc: 0.6586\n",
            "Epoch 84/200\n",
            "700/700 [==============================] - 0s 40us/step - loss: 0.5708 - acc: 0.6586\n",
            "Epoch 85/200\n",
            "700/700 [==============================] - 0s 45us/step - loss: 0.5690 - acc: 0.6586\n",
            "Epoch 86/200\n",
            "700/700 [==============================] - 0s 47us/step - loss: 0.5658 - acc: 0.6600\n",
            "Epoch 87/200\n",
            "700/700 [==============================] - 0s 49us/step - loss: 0.5654 - acc: 0.6586\n",
            "Epoch 88/200\n",
            "700/700 [==============================] - 0s 43us/step - loss: 0.5680 - acc: 0.6586\n",
            "Epoch 89/200\n",
            "700/700 [==============================] - 0s 40us/step - loss: 0.5658 - acc: 0.6600\n",
            "Epoch 90/200\n",
            "700/700 [==============================] - 0s 40us/step - loss: 0.5636 - acc: 0.6614\n",
            "Epoch 91/200\n",
            "700/700 [==============================] - 0s 45us/step - loss: 0.5640 - acc: 0.6614\n",
            "Epoch 92/200\n",
            "700/700 [==============================] - 0s 43us/step - loss: 0.5636 - acc: 0.6600\n",
            "Epoch 93/200\n",
            "700/700 [==============================] - 0s 54us/step - loss: 0.5635 - acc: 0.6600\n",
            "Epoch 94/200\n",
            "700/700 [==============================] - 0s 47us/step - loss: 0.5627 - acc: 0.6614\n",
            "Epoch 95/200\n",
            "700/700 [==============================] - 0s 50us/step - loss: 0.5601 - acc: 0.6614\n",
            "Epoch 96/200\n",
            "700/700 [==============================] - 0s 44us/step - loss: 0.5651 - acc: 0.6586\n",
            "Epoch 97/200\n",
            "700/700 [==============================] - 0s 40us/step - loss: 0.5606 - acc: 0.6614\n",
            "Epoch 98/200\n",
            "700/700 [==============================] - 0s 44us/step - loss: 0.5590 - acc: 0.6614\n",
            "Epoch 99/200\n",
            "700/700 [==============================] - 0s 41us/step - loss: 0.5620 - acc: 0.6614\n",
            "Epoch 100/200\n",
            "700/700 [==============================] - 0s 54us/step - loss: 0.5623 - acc: 0.6614\n",
            "Epoch 101/200\n",
            "700/700 [==============================] - 0s 49us/step - loss: 0.5602 - acc: 0.6600\n",
            "Epoch 102/200\n",
            "700/700 [==============================] - 0s 43us/step - loss: 0.5596 - acc: 0.6986\n",
            "Epoch 103/200\n",
            "700/700 [==============================] - 0s 46us/step - loss: 0.5634 - acc: 0.7043\n",
            "Epoch 104/200\n",
            "700/700 [==============================] - 0s 41us/step - loss: 0.5638 - acc: 0.7114\n",
            "Epoch 105/200\n",
            "700/700 [==============================] - 0s 44us/step - loss: 0.5624 - acc: 0.7200\n",
            "Epoch 106/200\n",
            "700/700 [==============================] - 0s 40us/step - loss: 0.5573 - acc: 0.7171\n",
            "Epoch 107/200\n",
            "700/700 [==============================] - 0s 49us/step - loss: 0.5570 - acc: 0.7200\n",
            "Epoch 108/200\n",
            "700/700 [==============================] - 0s 43us/step - loss: 0.5582 - acc: 0.7114\n",
            "Epoch 109/200\n",
            "700/700 [==============================] - 0s 45us/step - loss: 0.5607 - acc: 0.7229\n",
            "Epoch 110/200\n",
            "700/700 [==============================] - 0s 44us/step - loss: 0.5608 - acc: 0.7129\n",
            "Epoch 111/200\n",
            "700/700 [==============================] - 0s 48us/step - loss: 0.5588 - acc: 0.7143\n",
            "Epoch 112/200\n",
            "700/700 [==============================] - 0s 46us/step - loss: 0.5596 - acc: 0.7143\n",
            "Epoch 113/200\n",
            "700/700 [==============================] - 0s 46us/step - loss: 0.5633 - acc: 0.7200\n",
            "Epoch 114/200\n",
            "700/700 [==============================] - 0s 56us/step - loss: 0.5577 - acc: 0.7171\n",
            "Epoch 115/200\n",
            "700/700 [==============================] - 0s 40us/step - loss: 0.5564 - acc: 0.7143\n",
            "Epoch 116/200\n",
            "700/700 [==============================] - 0s 44us/step - loss: 0.5561 - acc: 0.7129\n",
            "Epoch 117/200\n",
            "700/700 [==============================] - 0s 44us/step - loss: 0.5648 - acc: 0.7086\n",
            "Epoch 118/200\n",
            "700/700 [==============================] - 0s 47us/step - loss: 0.5619 - acc: 0.7071\n",
            "Epoch 119/200\n",
            "700/700 [==============================] - 0s 42us/step - loss: 0.5567 - acc: 0.7229\n",
            "Epoch 120/200\n",
            "700/700 [==============================] - 0s 47us/step - loss: 0.5555 - acc: 0.7114\n",
            "Epoch 121/200\n",
            "700/700 [==============================] - 0s 41us/step - loss: 0.5568 - acc: 0.7200\n",
            "Epoch 122/200\n",
            "700/700 [==============================] - 0s 41us/step - loss: 0.5588 - acc: 0.7143\n",
            "Epoch 123/200\n",
            "700/700 [==============================] - 0s 44us/step - loss: 0.5567 - acc: 0.7157\n",
            "Epoch 124/200\n",
            "700/700 [==============================] - 0s 49us/step - loss: 0.5539 - acc: 0.7157\n",
            "Epoch 125/200\n",
            "700/700 [==============================] - 0s 48us/step - loss: 0.5544 - acc: 0.7157\n",
            "Epoch 126/200\n",
            "700/700 [==============================] - 0s 48us/step - loss: 0.5550 - acc: 0.7157\n",
            "Epoch 127/200\n",
            "700/700 [==============================] - 0s 47us/step - loss: 0.5553 - acc: 0.7086\n",
            "Epoch 128/200\n",
            "700/700 [==============================] - 0s 43us/step - loss: 0.5545 - acc: 0.7171\n",
            "Epoch 129/200\n",
            "700/700 [==============================] - 0s 44us/step - loss: 0.5533 - acc: 0.7143\n",
            "Epoch 130/200\n",
            "700/700 [==============================] - 0s 41us/step - loss: 0.5516 - acc: 0.7129\n",
            "Epoch 131/200\n",
            "700/700 [==============================] - 0s 44us/step - loss: 0.5550 - acc: 0.7200\n",
            "Epoch 132/200\n",
            "700/700 [==============================] - 0s 46us/step - loss: 0.5536 - acc: 0.7214\n",
            "Epoch 133/200\n",
            "700/700 [==============================] - 0s 44us/step - loss: 0.5521 - acc: 0.7186\n",
            "Epoch 134/200\n",
            "700/700 [==============================] - 0s 45us/step - loss: 0.5556 - acc: 0.7229\n",
            "Epoch 135/200\n",
            "700/700 [==============================] - 0s 52us/step - loss: 0.5508 - acc: 0.7171\n",
            "Epoch 136/200\n",
            "700/700 [==============================] - 0s 50us/step - loss: 0.5520 - acc: 0.7200\n",
            "Epoch 137/200\n",
            "700/700 [==============================] - 0s 42us/step - loss: 0.5537 - acc: 0.7114\n",
            "Epoch 138/200\n",
            "700/700 [==============================] - 0s 42us/step - loss: 0.5532 - acc: 0.7186\n",
            "Epoch 139/200\n",
            "700/700 [==============================] - 0s 49us/step - loss: 0.5504 - acc: 0.7214\n",
            "Epoch 140/200\n",
            "700/700 [==============================] - 0s 45us/step - loss: 0.5546 - acc: 0.7086\n",
            "Epoch 141/200\n",
            "700/700 [==============================] - 0s 46us/step - loss: 0.5621 - acc: 0.7200\n",
            "Epoch 142/200\n",
            "700/700 [==============================] - 0s 46us/step - loss: 0.5519 - acc: 0.7014\n",
            "Epoch 143/200\n",
            "700/700 [==============================] - 0s 43us/step - loss: 0.5524 - acc: 0.7229\n",
            "Epoch 144/200\n",
            "700/700 [==============================] - 0s 39us/step - loss: 0.5522 - acc: 0.7100\n",
            "Epoch 145/200\n",
            "700/700 [==============================] - 0s 40us/step - loss: 0.5550 - acc: 0.7243\n",
            "Epoch 146/200\n",
            "700/700 [==============================] - 0s 46us/step - loss: 0.5498 - acc: 0.7343\n",
            "Epoch 147/200\n",
            "700/700 [==============================] - 0s 49us/step - loss: 0.5489 - acc: 0.7200\n",
            "Epoch 148/200\n",
            "700/700 [==============================] - 0s 57us/step - loss: 0.5508 - acc: 0.7157\n",
            "Epoch 149/200\n",
            "700/700 [==============================] - 0s 47us/step - loss: 0.5511 - acc: 0.7186\n",
            "Epoch 150/200\n",
            "700/700 [==============================] - 0s 50us/step - loss: 0.5509 - acc: 0.7171\n",
            "Epoch 151/200\n",
            "700/700 [==============================] - 0s 45us/step - loss: 0.5493 - acc: 0.7200\n",
            "Epoch 152/200\n",
            "700/700 [==============================] - 0s 47us/step - loss: 0.5511 - acc: 0.7200\n",
            "Epoch 153/200\n",
            "700/700 [==============================] - 0s 46us/step - loss: 0.5498 - acc: 0.7257\n",
            "Epoch 154/200\n",
            "700/700 [==============================] - 0s 46us/step - loss: 0.5496 - acc: 0.7271\n",
            "Epoch 155/200\n",
            "700/700 [==============================] - 0s 49us/step - loss: 0.5521 - acc: 0.7171\n",
            "Epoch 156/200\n",
            "700/700 [==============================] - 0s 45us/step - loss: 0.5533 - acc: 0.7271\n",
            "Epoch 157/200\n",
            "700/700 [==============================] - 0s 45us/step - loss: 0.5489 - acc: 0.7171\n",
            "Epoch 158/200\n",
            "700/700 [==============================] - 0s 44us/step - loss: 0.5492 - acc: 0.7214\n",
            "Epoch 159/200\n",
            "700/700 [==============================] - 0s 44us/step - loss: 0.5478 - acc: 0.7243\n",
            "Epoch 160/200\n",
            "700/700 [==============================] - 0s 44us/step - loss: 0.5511 - acc: 0.7086\n",
            "Epoch 161/200\n",
            "700/700 [==============================] - 0s 51us/step - loss: 0.5480 - acc: 0.7243\n",
            "Epoch 162/200\n",
            "700/700 [==============================] - 0s 45us/step - loss: 0.5561 - acc: 0.7214\n",
            "Epoch 163/200\n",
            "700/700 [==============================] - 0s 45us/step - loss: 0.5590 - acc: 0.7157\n",
            "Epoch 164/200\n",
            "700/700 [==============================] - 0s 47us/step - loss: 0.5466 - acc: 0.7286\n",
            "Epoch 165/200\n",
            "700/700 [==============================] - 0s 40us/step - loss: 0.5495 - acc: 0.7243\n",
            "Epoch 166/200\n",
            "700/700 [==============================] - 0s 43us/step - loss: 0.5487 - acc: 0.7129\n",
            "Epoch 167/200\n",
            "700/700 [==============================] - 0s 53us/step - loss: 0.5470 - acc: 0.7200\n",
            "Epoch 168/200\n",
            "700/700 [==============================] - 0s 41us/step - loss: 0.5468 - acc: 0.7286\n",
            "Epoch 169/200\n",
            "700/700 [==============================] - 0s 45us/step - loss: 0.5457 - acc: 0.7100\n",
            "Epoch 170/200\n",
            "700/700 [==============================] - 0s 43us/step - loss: 0.5441 - acc: 0.7171\n",
            "Epoch 171/200\n",
            "700/700 [==============================] - 0s 48us/step - loss: 0.5446 - acc: 0.7300\n",
            "Epoch 172/200\n",
            "700/700 [==============================] - 0s 42us/step - loss: 0.5493 - acc: 0.7229\n",
            "Epoch 173/200\n",
            "700/700 [==============================] - 0s 49us/step - loss: 0.5501 - acc: 0.7086\n",
            "Epoch 174/200\n",
            "700/700 [==============================] - 0s 51us/step - loss: 0.5486 - acc: 0.7286\n",
            "Epoch 175/200\n",
            "700/700 [==============================] - 0s 45us/step - loss: 0.5475 - acc: 0.7200\n",
            "Epoch 176/200\n",
            "700/700 [==============================] - 0s 44us/step - loss: 0.5472 - acc: 0.7243\n",
            "Epoch 177/200\n",
            "700/700 [==============================] - 0s 50us/step - loss: 0.5466 - acc: 0.7271\n",
            "Epoch 178/200\n",
            "700/700 [==============================] - 0s 48us/step - loss: 0.5443 - acc: 0.7200\n",
            "Epoch 179/200\n",
            "700/700 [==============================] - 0s 42us/step - loss: 0.5437 - acc: 0.7357\n",
            "Epoch 180/200\n",
            "700/700 [==============================] - 0s 44us/step - loss: 0.5469 - acc: 0.7271\n",
            "Epoch 181/200\n",
            "700/700 [==============================] - 0s 52us/step - loss: 0.5514 - acc: 0.7171\n",
            "Epoch 182/200\n",
            "700/700 [==============================] - 0s 53us/step - loss: 0.5476 - acc: 0.7286\n",
            "Epoch 183/200\n",
            "700/700 [==============================] - 0s 52us/step - loss: 0.5449 - acc: 0.7271\n",
            "Epoch 184/200\n",
            "700/700 [==============================] - 0s 46us/step - loss: 0.5434 - acc: 0.7271\n",
            "Epoch 185/200\n",
            "700/700 [==============================] - 0s 40us/step - loss: 0.5436 - acc: 0.7186\n",
            "Epoch 186/200\n",
            "700/700 [==============================] - 0s 40us/step - loss: 0.5437 - acc: 0.7214\n",
            "Epoch 187/200\n",
            "700/700 [==============================] - 0s 41us/step - loss: 0.5439 - acc: 0.7286\n",
            "Epoch 188/200\n",
            "700/700 [==============================] - 0s 48us/step - loss: 0.5428 - acc: 0.7271\n",
            "Epoch 189/200\n",
            "700/700 [==============================] - 0s 56us/step - loss: 0.5427 - acc: 0.7343\n",
            "Epoch 190/200\n",
            "700/700 [==============================] - 0s 41us/step - loss: 0.5428 - acc: 0.7171\n",
            "Epoch 191/200\n",
            "700/700 [==============================] - 0s 52us/step - loss: 0.5410 - acc: 0.7386\n",
            "Epoch 192/200\n",
            "700/700 [==============================] - 0s 41us/step - loss: 0.5452 - acc: 0.7229\n",
            "Epoch 193/200\n",
            "700/700 [==============================] - 0s 48us/step - loss: 0.5431 - acc: 0.7229\n",
            "Epoch 194/200\n",
            "700/700 [==============================] - 0s 43us/step - loss: 0.5490 - acc: 0.7186\n",
            "Epoch 195/200\n",
            "700/700 [==============================] - 0s 45us/step - loss: 0.5437 - acc: 0.7114\n",
            "Epoch 196/200\n",
            "700/700 [==============================] - 0s 45us/step - loss: 0.5440 - acc: 0.7329\n",
            "Epoch 197/200\n",
            "700/700 [==============================] - 0s 44us/step - loss: 0.5408 - acc: 0.7271\n",
            "Epoch 198/200\n",
            "700/700 [==============================] - 0s 49us/step - loss: 0.5429 - acc: 0.7343\n",
            "Epoch 199/200\n",
            "700/700 [==============================] - 0s 41us/step - loss: 0.5419 - acc: 0.7314\n",
            "Epoch 200/200\n",
            "700/700 [==============================] - 0s 39us/step - loss: 0.5399 - acc: 0.7214\n"
          ],
          "name": "stdout"
        }
      ]
    },
    {
      "cell_type": "code",
      "metadata": {
        "id": "tGeVECh9ldBp",
        "colab_type": "code",
        "outputId": "4e5435c8-135f-448d-8015-fb175701b526",
        "colab": {
          "base_uri": "https://localhost:8080/",
          "height": 53
        }
      },
      "source": [
        "#모델평가하기 \n",
        "scores = model.evaluate(x_test, y_test)\n",
        "print(\"%s: %.2f%%\" %(model.metrics_names[1],scores[1]*100))"
      ],
      "execution_count": 0,
      "outputs": [
        {
          "output_type": "stream",
          "text": [
            "68/68 [==============================] - 0s 1ms/step\n",
            "acc: 69.12%\n"
          ],
          "name": "stdout"
        }
      ]
    },
    {
      "cell_type": "code",
      "metadata": {
        "id": "teTlno3Ll-Wp",
        "colab_type": "code",
        "outputId": "7f21b0f6-0092-4756-bfa2-cf9c47e08b5f",
        "colab": {
          "base_uri": "https://localhost:8080/",
          "height": 35
        }
      },
      "source": [
        "scores"
      ],
      "execution_count": 0,
      "outputs": [
        {
          "output_type": "execute_result",
          "data": {
            "text/plain": [
              "[0.7351598073454464, 0.6911764705882353]"
            ]
          },
          "metadata": {
            "tags": []
          },
          "execution_count": 63
        }
      ]
    },
    {
      "cell_type": "code",
      "metadata": {
        "id": "fC8rndfwo6fB",
        "colab_type": "code",
        "outputId": "47c4e70a-23cb-4f87-aa25-e95d0f5fcd00",
        "colab": {
          "base_uri": "https://localhost:8080/",
          "height": 35
        }
      },
      "source": [
        "model.metrics_names"
      ],
      "execution_count": 0,
      "outputs": [
        {
          "output_type": "execute_result",
          "data": {
            "text/plain": [
              "['loss', 'acc']"
            ]
          },
          "metadata": {
            "tags": []
          },
          "execution_count": 65
        }
      ]
    },
    {
      "cell_type": "code",
      "metadata": {
        "id": "oQS9uKUSnBSx",
        "colab_type": "code",
        "outputId": "cd493833-ae6c-43e3-8611-6d486d7c339a",
        "colab": {
          "base_uri": "https://localhost:8080/",
          "height": 368
        }
      },
      "source": [
        "fig, (ax0, ax1) = plt.subplots(nrows=1, ncols=2, sharey=False, figsize =(10,5))\n",
        "\n",
        "#모델의 정확도\n",
        "ax0.plot(hist.history['acc'])\n",
        "ax0.set(title = 'model accuracy', xlabel='epoch', ylabel='accuracy')\n",
        "\n",
        "\n",
        "#모델의 오차 \n",
        "ax1.plot(hist.history['loss'])\n",
        "ax1.set(title = 'model loss', xlabel='epoch', ylabel='loss')"
      ],
      "execution_count": 0,
      "outputs": [
        {
          "output_type": "execute_result",
          "data": {
            "text/plain": [
              "[Text(0, 0.5, 'loss'), Text(0.5, 0, 'epoch'), Text(0.5, 1.0, 'model loss')]"
            ]
          },
          "metadata": {
            "tags": []
          },
          "execution_count": 66
        },
        {
          "output_type": "display_data",
          "data": {
            "image/png": "[encoded data removed]",
            "text/plain": [
              "<Figure size 720x360 with 2 Axes>"
            ]
          },
          "metadata": {
            "tags": []
          }
        }
      ]
    },
    {
      "cell_type": "code",
      "metadata": {
        "id": "-hUBq26VnPOh",
        "colab_type": "code",
        "outputId": "9ddbfe34-b935-4161-fb04-58a4163abd35",
        "colab": {
          "base_uri": "https://localhost:8080/",
          "height": 35
        }
      },
      "source": [
        "patient = np.array([[0,137,90,35,168,43.1,2.228,33]])\n",
        "#모델예측하기\n",
        "\n",
        "prediction = model.predict(patient)\n",
        "\n",
        "print(prediction)\n",
        "\n"
      ],
      "execution_count": 0,
      "outputs": [
        {
          "output_type": "stream",
          "text": [
            "[[0.42615455]]\n"
          ],
          "name": "stdout"
        }
      ]
    },
    {
      "cell_type": "code",
      "metadata": {
        "id": "KwnWuO-lp3LF",
        "colab_type": "code",
        "colab": {}
      },
      "source": [
        ""
      ],
      "execution_count": 0,
      "outputs": []
    }
  ]
}