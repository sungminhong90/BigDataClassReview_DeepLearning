{
  "nbformat": 4,
  "nbformat_minor": 0,
  "metadata": {
    "colab": {
      "name": "2019_09_23_deeplearningprocedure_memorize.ipynb",
      "provenance": []
    },
    "kernelspec": {
      "name": "python3",
      "display_name": "Python 3"
    }
  },
  "cells": [
    {
      "cell_type": "markdown",
      "metadata": {
        "id": "83KLCxRBWIdi",
        "colab_type": "text"
      },
      "source": [
        "## PRE- 써야하는 프로그램(??) 가져오기\n"
      ]
    },
    {
      "cell_type": "code",
      "metadata": {
        "id": "oHpgv37bVwzb",
        "colab_type": "code",
        "outputId": "9ea0ad93-fd36-4b5a-d572-ba681be11566",
        "colab": {
          "base_uri": "https://localhost:8080/",
          "height": 33
        }
      },
      "source": [
        "import numpy as np\n",
        "from keras.utils import np_utils\n",
        "from keras.datasets import mnist\n",
        "from keras.models import Sequential\n",
        "from keras.layers import Dense, Activation"
      ],
      "execution_count": 0,
      "outputs": [
        {
          "output_type": "stream",
          "text": [
            "Using TensorFlow backend.\n"
          ],
          "name": "stderr"
        }
      ]
    },
    {
      "cell_type": "markdown",
      "metadata": {
        "id": "4ec9Zov6W-lW",
        "colab_type": "text"
      },
      "source": [
        "## 데이터 가져오기"
      ]
    },
    {
      "cell_type": "code",
      "metadata": {
        "id": "x8tH8rGZWFfJ",
        "colab_type": "code",
        "outputId": "90164a36-4d53-4750-b536-97ba2918eaf8",
        "colab": {
          "base_uri": "https://localhost:8080/",
          "height": 50
        }
      },
      "source": [
        "(x_train, y_train), (x_test, y_test) = mnist.load_data()"
      ],
      "execution_count": 0,
      "outputs": [
        {
          "output_type": "stream",
          "text": [
            "Downloading data from https://s3.amazonaws.com/img-datasets/mnist.npz\n",
            "11493376/11490434 [==============================] - 0s 0us/step\n"
          ],
          "name": "stdout"
        }
      ]
    },
    {
      "cell_type": "markdown",
      "metadata": {
        "id": "tOeAHA5uXBLY",
        "colab_type": "text"
      },
      "source": [
        "## 데이터 살펴보기"
      ]
    },
    {
      "cell_type": "code",
      "metadata": {
        "id": "tb98bMJUWV5T",
        "colab_type": "code",
        "outputId": "a4c9d451-e219-4b2b-88e8-adda08b9c374",
        "colab": {
          "base_uri": "https://localhost:8080/",
          "height": 33
        }
      },
      "source": [
        "len(x_train)"
      ],
      "execution_count": 0,
      "outputs": [
        {
          "output_type": "execute_result",
          "data": {
            "text/plain": [
              "60000"
            ]
          },
          "metadata": {
            "tags": []
          },
          "execution_count": 7
        }
      ]
    },
    {
      "cell_type": "code",
      "metadata": {
        "id": "TLxEO1KnWl2p",
        "colab_type": "code",
        "outputId": "c2d6d525-2725-4ee0-901c-d3c7ee1d293e",
        "colab": {
          "base_uri": "https://localhost:8080/",
          "height": 33
        }
      },
      "source": [
        "x_train.shape"
      ],
      "execution_count": 0,
      "outputs": [
        {
          "output_type": "execute_result",
          "data": {
            "text/plain": [
              "(60000, 28, 28)"
            ]
          },
          "metadata": {
            "tags": []
          },
          "execution_count": 9
        }
      ]
    },
    {
      "cell_type": "code",
      "metadata": {
        "id": "ULnChfWsW5cF",
        "colab_type": "code",
        "outputId": "e9a49712-5a73-4ebe-9391-e8eb1701d95b",
        "colab": {
          "base_uri": "https://localhost:8080/",
          "height": 33
        }
      },
      "source": [
        "y_train.shape"
      ],
      "execution_count": 0,
      "outputs": [
        {
          "output_type": "execute_result",
          "data": {
            "text/plain": [
              "(60000,)"
            ]
          },
          "metadata": {
            "tags": []
          },
          "execution_count": 10
        }
      ]
    },
    {
      "cell_type": "code",
      "metadata": {
        "id": "_xjmdOObXZ3U",
        "colab_type": "code",
        "outputId": "620524a9-55d8-476c-f68f-641ee709a91c",
        "colab": {
          "base_uri": "https://localhost:8080/",
          "height": 33
        }
      },
      "source": [
        "x_test.shape"
      ],
      "execution_count": 0,
      "outputs": [
        {
          "output_type": "execute_result",
          "data": {
            "text/plain": [
              "(10000, 28, 28)"
            ]
          },
          "metadata": {
            "tags": []
          },
          "execution_count": 11
        }
      ]
    },
    {
      "cell_type": "markdown",
      "metadata": {
        "id": "FxelrE-wXJAW",
        "colab_type": "text"
      },
      "source": [
        "## 데이터 shape 맞추기"
      ]
    },
    {
      "cell_type": "code",
      "metadata": {
        "id": "5-oez2DKXHsJ",
        "colab_type": "code",
        "colab": {}
      },
      "source": [
        "x_train = x_train.reshape(60000, 28*28).astype('float32')/255.0\n",
        "x_test = x_test.reshape(10000, 28*28).astype('float32')/255.0"
      ],
      "execution_count": 0,
      "outputs": []
    },
    {
      "cell_type": "markdown",
      "metadata": {
        "id": "thOanyR_XhHu",
        "colab_type": "text"
      },
      "source": [
        "## 훈련set/검증 set분리하기"
      ]
    },
    {
      "cell_type": "code",
      "metadata": {
        "id": "cFUTToEjW8pT",
        "colab_type": "code",
        "colab": {}
      },
      "source": [
        "x_val = x_train[50000:]\n",
        "y_val = y_train[50000:]\n",
        "x_train = x_train[:50000]\n",
        "y_train = y_train[:50000]"
      ],
      "execution_count": 0,
      "outputs": []
    },
    {
      "cell_type": "markdown",
      "metadata": {
        "id": "u3xeArUsXyDW",
        "colab_type": "text"
      },
      "source": [
        "## 데이터 전처리/one-hot encoding"
      ]
    },
    {
      "cell_type": "code",
      "metadata": {
        "id": "dbn-eJYdXwuX",
        "colab_type": "code",
        "colab": {}
      },
      "source": [
        "y_train = np_utils.to_categorical(y_train)\n",
        "y_test = np_utils.to_categorical(y_test)\n",
        "y_val = np_utils.to_categorical(y_val)"
      ],
      "execution_count": 0,
      "outputs": []
    },
    {
      "cell_type": "markdown",
      "metadata": {
        "id": "aq5h5XhVYD0o",
        "colab_type": "text"
      },
      "source": [
        "## 모델구성하기"
      ]
    },
    {
      "cell_type": "code",
      "metadata": {
        "id": "QYiKTPV9YB-C",
        "colab_type": "code",
        "colab": {}
      },
      "source": [
        "model = Sequential()\n",
        "model.add(Dense(units=64, input_dim = 28*28, activation = 'relu'))\n",
        "model.add(Dense(64, activation = 'relu'))\n",
        "model.add(Dense(32, activation = 'relu'))\n",
        "model.add(Dense(10, activation = 'softmax'))"
      ],
      "execution_count": 0,
      "outputs": []
    },
    {
      "cell_type": "markdown",
      "metadata": {
        "id": "-thdQONHYeBk",
        "colab_type": "text"
      },
      "source": [
        "## 모델 학습과정 설정하기"
      ]
    },
    {
      "cell_type": "code",
      "metadata": {
        "id": "qe3ysTUGYaVy",
        "colab_type": "code",
        "outputId": "4178608c-2b9b-4263-87c1-a8fc431a7169",
        "colab": {
          "base_uri": "https://localhost:8080/",
          "height": 83
        }
      },
      "source": [
        "model.compile(loss = 'categorical_crossentropy', optimizer = 'sgd', metrics = ['accuracy'])"
      ],
      "execution_count": 0,
      "outputs": [
        {
          "output_type": "stream",
          "text": [
            "WARNING:tensorflow:From /usr/local/lib/python3.6/dist-packages/keras/optimizers.py:793: The name tf.train.Optimizer is deprecated. Please use tf.compat.v1.train.Optimizer instead.\n",
            "\n",
            "WARNING:tensorflow:From /usr/local/lib/python3.6/dist-packages/keras/backend/tensorflow_backend.py:3576: The name tf.log is deprecated. Please use tf.math.log instead.\n",
            "\n"
          ],
          "name": "stdout"
        }
      ]
    },
    {
      "cell_type": "markdown",
      "metadata": {
        "id": "6JZGHmJ8YugY",
        "colab_type": "text"
      },
      "source": [
        "## 모델 학습시키기"
      ]
    },
    {
      "cell_type": "code",
      "metadata": {
        "id": "DnK0d6ilYrO7",
        "colab_type": "code",
        "outputId": "541a415c-e5ac-4074-f72a-30688d616642",
        "colab": {
          "base_uri": "https://localhost:8080/",
          "height": 1000
        }
      },
      "source": [
        "hist = model.fit(x_train, y_train, epochs = 64, batch_size = 32, validation_data=(x_val, y_val))"
      ],
      "execution_count": 0,
      "outputs": [
        {
          "output_type": "stream",
          "text": [
            "WARNING:tensorflow:From /usr/local/lib/python3.6/dist-packages/tensorflow/python/ops/math_grad.py:1250: add_dispatch_support.<locals>.wrapper (from tensorflow.python.ops.array_ops) is deprecated and will be removed in a future version.\n",
            "Instructions for updating:\n",
            "Use tf.where in 2.0, which has the same broadcast rule as np.where\n",
            "WARNING:tensorflow:From /usr/local/lib/python3.6/dist-packages/keras/backend/tensorflow_backend.py:1033: The name tf.assign_add is deprecated. Please use tf.compat.v1.assign_add instead.\n",
            "\n",
            "Train on 50000 samples, validate on 10000 samples\n",
            "Epoch 1/64\n",
            "50000/50000 [==============================] - 3s 62us/step - loss: 0.8021 - acc: 0.7641 - val_loss: 0.3353 - val_acc: 0.9054\n",
            "Epoch 2/64\n",
            "50000/50000 [==============================] - 3s 50us/step - loss: 0.3055 - acc: 0.9111 - val_loss: 0.2448 - val_acc: 0.9316\n",
            "Epoch 3/64\n",
            "50000/50000 [==============================] - 3s 50us/step - loss: 0.2451 - acc: 0.9286 - val_loss: 0.2077 - val_acc: 0.9413\n",
            "Epoch 4/64\n",
            "50000/50000 [==============================] - 2s 50us/step - loss: 0.2089 - acc: 0.9389 - val_loss: 0.1856 - val_acc: 0.9483\n",
            "Epoch 5/64\n",
            "50000/50000 [==============================] - 3s 50us/step - loss: 0.1824 - acc: 0.9461 - val_loss: 0.1723 - val_acc: 0.9502\n",
            "Epoch 6/64\n",
            "50000/50000 [==============================] - 3s 50us/step - loss: 0.1623 - acc: 0.9523 - val_loss: 0.1481 - val_acc: 0.9581\n",
            "Epoch 7/64\n",
            "50000/50000 [==============================] - 2s 50us/step - loss: 0.1475 - acc: 0.9560 - val_loss: 0.1400 - val_acc: 0.9618\n",
            "Epoch 8/64\n",
            "50000/50000 [==============================] - 2s 49us/step - loss: 0.1343 - acc: 0.9606 - val_loss: 0.1524 - val_acc: 0.9553\n",
            "Epoch 9/64\n",
            "50000/50000 [==============================] - 2s 49us/step - loss: 0.1240 - acc: 0.9630 - val_loss: 0.1369 - val_acc: 0.9615\n",
            "Epoch 10/64\n",
            "50000/50000 [==============================] - 3s 51us/step - loss: 0.1143 - acc: 0.9655 - val_loss: 0.1235 - val_acc: 0.9640\n",
            "Epoch 11/64\n",
            "50000/50000 [==============================] - 2s 50us/step - loss: 0.1061 - acc: 0.9684 - val_loss: 0.1192 - val_acc: 0.9651\n",
            "Epoch 12/64\n",
            "50000/50000 [==============================] - 2s 50us/step - loss: 0.0988 - acc: 0.9704 - val_loss: 0.1141 - val_acc: 0.9666\n",
            "Epoch 13/64\n",
            "50000/50000 [==============================] - 3s 50us/step - loss: 0.0921 - acc: 0.9733 - val_loss: 0.1102 - val_acc: 0.9686\n",
            "Epoch 14/64\n",
            "50000/50000 [==============================] - 3s 54us/step - loss: 0.0864 - acc: 0.9736 - val_loss: 0.1152 - val_acc: 0.9667\n",
            "Epoch 15/64\n",
            "50000/50000 [==============================] - 3s 55us/step - loss: 0.0811 - acc: 0.9760 - val_loss: 0.1041 - val_acc: 0.9692\n",
            "Epoch 16/64\n",
            "50000/50000 [==============================] - 3s 51us/step - loss: 0.0762 - acc: 0.9772 - val_loss: 0.1048 - val_acc: 0.9706\n",
            "Epoch 17/64\n",
            "50000/50000 [==============================] - 2s 49us/step - loss: 0.0716 - acc: 0.9791 - val_loss: 0.1112 - val_acc: 0.9676\n",
            "Epoch 18/64\n",
            "50000/50000 [==============================] - 2s 50us/step - loss: 0.0679 - acc: 0.9801 - val_loss: 0.1013 - val_acc: 0.9700\n",
            "Epoch 19/64\n",
            "50000/50000 [==============================] - 3s 51us/step - loss: 0.0642 - acc: 0.9817 - val_loss: 0.0997 - val_acc: 0.9725\n",
            "Epoch 20/64\n",
            "50000/50000 [==============================] - 3s 50us/step - loss: 0.0601 - acc: 0.9826 - val_loss: 0.1036 - val_acc: 0.9716\n",
            "Epoch 21/64\n",
            "50000/50000 [==============================] - 2s 50us/step - loss: 0.0562 - acc: 0.9838 - val_loss: 0.0985 - val_acc: 0.9733\n",
            "Epoch 22/64\n",
            "50000/50000 [==============================] - 3s 50us/step - loss: 0.0544 - acc: 0.9844 - val_loss: 0.1025 - val_acc: 0.9707\n",
            "Epoch 23/64\n",
            "50000/50000 [==============================] - 3s 50us/step - loss: 0.0510 - acc: 0.9851 - val_loss: 0.0986 - val_acc: 0.9708\n",
            "Epoch 24/64\n",
            "50000/50000 [==============================] - 3s 51us/step - loss: 0.0484 - acc: 0.9865 - val_loss: 0.0988 - val_acc: 0.9707\n",
            "Epoch 25/64\n",
            "50000/50000 [==============================] - 3s 50us/step - loss: 0.0457 - acc: 0.9864 - val_loss: 0.1005 - val_acc: 0.9715\n",
            "Epoch 26/64\n",
            "50000/50000 [==============================] - 3s 50us/step - loss: 0.0433 - acc: 0.9873 - val_loss: 0.0935 - val_acc: 0.9727\n",
            "Epoch 27/64\n",
            "50000/50000 [==============================] - 3s 51us/step - loss: 0.0411 - acc: 0.9882 - val_loss: 0.0984 - val_acc: 0.9713\n",
            "Epoch 28/64\n",
            "50000/50000 [==============================] - 3s 51us/step - loss: 0.0388 - acc: 0.9890 - val_loss: 0.0968 - val_acc: 0.9732\n",
            "Epoch 29/64\n",
            "50000/50000 [==============================] - 3s 50us/step - loss: 0.0369 - acc: 0.9898 - val_loss: 0.1063 - val_acc: 0.9676\n",
            "Epoch 30/64\n",
            "50000/50000 [==============================] - 2s 50us/step - loss: 0.0350 - acc: 0.9907 - val_loss: 0.1064 - val_acc: 0.9692\n",
            "Epoch 31/64\n",
            "50000/50000 [==============================] - 3s 50us/step - loss: 0.0328 - acc: 0.9913 - val_loss: 0.0946 - val_acc: 0.9726\n",
            "Epoch 32/64\n",
            "50000/50000 [==============================] - 3s 50us/step - loss: 0.0308 - acc: 0.9919 - val_loss: 0.1212 - val_acc: 0.9662\n",
            "Epoch 33/64\n",
            "50000/50000 [==============================] - 3s 50us/step - loss: 0.0293 - acc: 0.9922 - val_loss: 0.1044 - val_acc: 0.9708\n",
            "Epoch 34/64\n",
            "50000/50000 [==============================] - 2s 50us/step - loss: 0.0276 - acc: 0.9928 - val_loss: 0.0971 - val_acc: 0.9729\n",
            "Epoch 35/64\n",
            "50000/50000 [==============================] - 3s 51us/step - loss: 0.0261 - acc: 0.9934 - val_loss: 0.1043 - val_acc: 0.9719\n",
            "Epoch 36/64\n",
            "50000/50000 [==============================] - 3s 51us/step - loss: 0.0243 - acc: 0.9937 - val_loss: 0.1008 - val_acc: 0.9722\n",
            "Epoch 37/64\n",
            "50000/50000 [==============================] - 3s 50us/step - loss: 0.0233 - acc: 0.9942 - val_loss: 0.0949 - val_acc: 0.9737\n",
            "Epoch 38/64\n",
            "50000/50000 [==============================] - 3s 50us/step - loss: 0.0222 - acc: 0.9943 - val_loss: 0.0992 - val_acc: 0.9728\n",
            "Epoch 39/64\n",
            "50000/50000 [==============================] - 3s 51us/step - loss: 0.0204 - acc: 0.9953 - val_loss: 0.0992 - val_acc: 0.9735\n",
            "Epoch 40/64\n",
            "50000/50000 [==============================] - 3s 51us/step - loss: 0.0194 - acc: 0.9953 - val_loss: 0.0982 - val_acc: 0.9733\n",
            "Epoch 41/64\n",
            "50000/50000 [==============================] - 3s 52us/step - loss: 0.0183 - acc: 0.9960 - val_loss: 0.0980 - val_acc: 0.9734\n",
            "Epoch 42/64\n",
            "50000/50000 [==============================] - 3s 51us/step - loss: 0.0172 - acc: 0.9964 - val_loss: 0.1001 - val_acc: 0.9731\n",
            "Epoch 43/64\n",
            "50000/50000 [==============================] - 3s 54us/step - loss: 0.0163 - acc: 0.9965 - val_loss: 0.1003 - val_acc: 0.9745\n",
            "Epoch 44/64\n",
            "50000/50000 [==============================] - 2s 50us/step - loss: 0.0147 - acc: 0.9967 - val_loss: 0.1081 - val_acc: 0.9710\n",
            "Epoch 45/64\n",
            "50000/50000 [==============================] - 2s 50us/step - loss: 0.0145 - acc: 0.9969 - val_loss: 0.1017 - val_acc: 0.9743\n",
            "Epoch 46/64\n",
            "50000/50000 [==============================] - 3s 51us/step - loss: 0.0135 - acc: 0.9971 - val_loss: 0.1050 - val_acc: 0.9730\n",
            "Epoch 47/64\n",
            "50000/50000 [==============================] - 3s 50us/step - loss: 0.0126 - acc: 0.9976 - val_loss: 0.1082 - val_acc: 0.9730\n",
            "Epoch 48/64\n",
            "50000/50000 [==============================] - 3s 52us/step - loss: 0.0118 - acc: 0.9978 - val_loss: 0.1040 - val_acc: 0.9742\n",
            "Epoch 49/64\n",
            "50000/50000 [==============================] - 3s 50us/step - loss: 0.0109 - acc: 0.9980 - val_loss: 0.1079 - val_acc: 0.9725\n",
            "Epoch 50/64\n",
            "50000/50000 [==============================] - 3s 52us/step - loss: 0.0102 - acc: 0.9982 - val_loss: 0.1088 - val_acc: 0.9727\n",
            "Epoch 51/64\n",
            "50000/50000 [==============================] - 3s 51us/step - loss: 0.0094 - acc: 0.9985 - val_loss: 0.1069 - val_acc: 0.9732\n",
            "Epoch 52/64\n",
            "50000/50000 [==============================] - 3s 50us/step - loss: 0.0089 - acc: 0.9987 - val_loss: 0.1130 - val_acc: 0.9736\n",
            "Epoch 53/64\n",
            "50000/50000 [==============================] - 2s 50us/step - loss: 0.0087 - acc: 0.9985 - val_loss: 0.1131 - val_acc: 0.9713\n",
            "Epoch 54/64\n",
            "50000/50000 [==============================] - 2s 50us/step - loss: 0.0078 - acc: 0.9989 - val_loss: 0.1123 - val_acc: 0.9737\n",
            "Epoch 55/64\n",
            "50000/50000 [==============================] - 3s 52us/step - loss: 0.0078 - acc: 0.9988 - val_loss: 0.1133 - val_acc: 0.9730\n",
            "Epoch 56/64\n",
            "50000/50000 [==============================] - 3s 52us/step - loss: 0.0069 - acc: 0.9992 - val_loss: 0.1125 - val_acc: 0.9742\n",
            "Epoch 57/64\n",
            "50000/50000 [==============================] - 3s 53us/step - loss: 0.0065 - acc: 0.9993 - val_loss: 0.1159 - val_acc: 0.9740\n",
            "Epoch 58/64\n",
            "50000/50000 [==============================] - 3s 51us/step - loss: 0.0061 - acc: 0.9993 - val_loss: 0.1162 - val_acc: 0.9732\n",
            "Epoch 59/64\n",
            "50000/50000 [==============================] - 3s 56us/step - loss: 0.0060 - acc: 0.9992 - val_loss: 0.1156 - val_acc: 0.9737\n",
            "Epoch 60/64\n",
            "50000/50000 [==============================] - 3s 56us/step - loss: 0.0054 - acc: 0.9995 - val_loss: 0.1122 - val_acc: 0.9738\n",
            "Epoch 61/64\n",
            "50000/50000 [==============================] - 3s 55us/step - loss: 0.0051 - acc: 0.9996 - val_loss: 0.1131 - val_acc: 0.9748\n",
            "Epoch 62/64\n",
            "50000/50000 [==============================] - 3s 55us/step - loss: 0.0048 - acc: 0.9996 - val_loss: 0.1181 - val_acc: 0.9727\n",
            "Epoch 63/64\n",
            "50000/50000 [==============================] - 3s 54us/step - loss: 0.0047 - acc: 0.9995 - val_loss: 0.1197 - val_acc: 0.9735\n",
            "Epoch 64/64\n",
            "50000/50000 [==============================] - 3s 54us/step - loss: 0.0042 - acc: 0.9997 - val_loss: 0.1171 - val_acc: 0.9725\n"
          ],
          "name": "stdout"
        }
      ]
    },
    {
      "cell_type": "markdown",
      "metadata": {
        "id": "hk16S48bZfaM",
        "colab_type": "text"
      },
      "source": [
        "## 모델 평가하기"
      ]
    },
    {
      "cell_type": "code",
      "metadata": {
        "id": "Zwwd0cWYZiI1",
        "colab_type": "code",
        "outputId": "ce6120cb-2a79-48fa-84d8-3e7d9487d907",
        "colab": {
          "base_uri": "https://localhost:8080/",
          "height": 67
        }
      },
      "source": [
        "loss_and_metrics = model.evaluate(x_test, y_test, batch_size =32)\n",
        "print('##EVALUATION LOSS AND METRICS')\n",
        "print(loss_and_metrics)"
      ],
      "execution_count": 0,
      "outputs": [
        {
          "output_type": "stream",
          "text": [
            "10000/10000 [==============================] - 0s 23us/step\n",
            "##EVALUATION LOSS AND METRICS\n",
            "[0.11978928293123027, 0.9741]\n"
          ],
          "name": "stdout"
        }
      ]
    },
    {
      "cell_type": "markdown",
      "metadata": {
        "id": "rMKbeOxRacK9",
        "colab_type": "text"
      },
      "source": [
        "## 모델사용하기"
      ]
    },
    {
      "cell_type": "code",
      "metadata": {
        "id": "yCIW0zr_abLx",
        "colab_type": "code",
        "colab": {}
      },
      "source": [
        "yhat_test = model.predict(x_test, batch_size = 32)"
      ],
      "execution_count": 0,
      "outputs": []
    },
    {
      "cell_type": "markdown",
      "metadata": {
        "id": "vLj94diCckCX",
        "colab_type": "text"
      },
      "source": [
        "## EXTRAS"
      ]
    },
    {
      "cell_type": "code",
      "metadata": {
        "id": "JNxNtsbZa5uV",
        "colab_type": "code",
        "colab": {}
      },
      "source": [
        "import matplotlib.pyplot as plt"
      ],
      "execution_count": 0,
      "outputs": []
    },
    {
      "cell_type": "code",
      "metadata": {
        "id": "Y8OSM42UcpHZ",
        "colab_type": "code",
        "outputId": "61e29104-a7b2-45da-9fb2-d74e69231774",
        "colab": {
          "base_uri": "https://localhost:8080/",
          "height": 269
        }
      },
      "source": [
        "plt.figure()\n",
        "plt.imshow(x_train[4].reshape(28,28))\n",
        "plt.show()"
      ],
      "execution_count": 0,
      "outputs": [
        {
          "output_type": "display_data",
          "data": {
            "image/png": "[encoded data removed]",
            "text/plain": [
              "<Figure size 432x288 with 1 Axes>"
            ]
          },
          "metadata": {
            "tags": []
          }
        }
      ]
    },
    {
      "cell_type": "code",
      "metadata": {
        "id": "O0IiJkhVcyAC",
        "colab_type": "code",
        "outputId": "d64cbc03-0f6e-4f39-cfd6-7717c842ea7a",
        "colab": {
          "base_uri": "https://localhost:8080/",
          "height": 582
        }
      },
      "source": [
        "plt.figure(figsize = (10,10))\n",
        "for i in range(25):\n",
        "  plt.subplot(5,5, i+1)\n",
        "  plt.xticks([])\n",
        "  plt.yticks([])\n",
        "  plt.grid(False)\n",
        "  plt.imshow(x_train[i].reshape(28,28))\n",
        "  \n",
        "plt.show()"
      ],
      "execution_count": 0,
      "outputs": [
        {
          "output_type": "display_data",
          "data": {
            "image/png": "[encoded data removed]",
            "text/plain": [
              "<Figure size 720x720 with 25 Axes>"
            ]
          },
          "metadata": {
            "tags": []
          }
        }
      ]
    },
    {
      "cell_type": "code",
      "metadata": {
        "id": "loNY79TNdtBW",
        "colab_type": "code",
        "colab": {}
      },
      "source": [
        ""
      ],
      "execution_count": 0,
      "outputs": []
    }
  ]
}