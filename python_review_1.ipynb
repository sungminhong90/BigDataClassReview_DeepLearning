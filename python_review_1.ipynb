{
  "nbformat": 4,
  "nbformat_minor": 0,
  "metadata": {
    "colab": {
      "name": "python_review_1.ipynb",
      "provenance": []
    },
    "kernelspec": {
      "name": "python3",
      "display_name": "Python 3"
    }
  },
  "cells": [
    {
      "cell_type": "code",
      "metadata": {
        "id": "NZOiwQE-fIk1",
        "colab_type": "code",
        "colab": {}
      },
      "source": [
        "# Python Review from 2019.09.23\n",
        "# Material: 초보자를 위한 파이썬 300제"
      ],
      "execution_count": 0,
      "outputs": []
    },
    {
      "cell_type": "code",
      "metadata": {
        "id": "Yu-32a27fUdq",
        "colab_type": "code",
        "colab": {}
      },
      "source": [
        "#Q1-20"
      ],
      "execution_count": 0,
      "outputs": []
    },
    {
      "cell_type": "code",
      "metadata": {
        "id": "wkCKdBZAfWmw",
        "colab_type": "code",
        "colab": {
          "base_uri": "https://localhost:8080/",
          "height": 33
        },
        "outputId": "0773923f-1ab2-47ec-8fe0-f6bd1cc93f78"
      },
      "source": [
        "#1 화면에 Hello World 문자열을 출력하라.\n",
        "print('Hello World')"
      ],
      "execution_count": 3,
      "outputs": [
        {
          "output_type": "stream",
          "text": [
            "Hello World\n"
          ],
          "name": "stdout"
        }
      ]
    },
    {
      "cell_type": "code",
      "metadata": {
        "id": "3ijRRUrvfgIN",
        "colab_type": "code",
        "colab": {
          "base_uri": "https://localhost:8080/",
          "height": 33
        },
        "outputId": "abe9f8b6-dd6d-488a-c73c-76c267d777a6"
      },
      "source": [
        "#2 화면에 Mary's cosmetics을 출력하라. (중간에 '가 있음에 주의.)\n",
        "print(\"Mary's cosmetics\")"
      ],
      "execution_count": 4,
      "outputs": [
        {
          "output_type": "stream",
          "text": [
            "Mary's cosmetics\n"
          ],
          "name": "stdout"
        }
      ]
    },
    {
      "cell_type": "code",
      "metadata": {
        "id": "2hA0TtDdfk7g",
        "colab_type": "code",
        "colab": {
          "base_uri": "https://localhost:8080/",
          "height": 33
        },
        "outputId": "f2dc4450-ea8d-4629-9e5f-69c845d1e61e"
      },
      "source": [
        "#3 화면에 아래 문장을 출력하라. (중간에 \"가 있음에 주의.)\n",
        "# 신씨가 소리질렀다. \"도둑이야\".\n",
        "print('신씨가 소리질렀다. \"도둑이야\".')"
      ],
      "execution_count": 5,
      "outputs": [
        {
          "output_type": "stream",
          "text": [
            "신씨가 소리질렀다. \"도둑이야\".\n"
          ],
          "name": "stdout"
        }
      ]
    },
    {
      "cell_type": "code",
      "metadata": {
        "id": "y-sA1mAxfr6U",
        "colab_type": "code",
        "colab": {
          "base_uri": "https://localhost:8080/",
          "height": 33
        },
        "outputId": "19dbcc97-8c94-4ca8-b953-80b36fac8a00"
      },
      "source": [
        "#4 화면에 \"C:\\Windows\"를 출력하라.\n",
        "print(\"C:\\\\\\\\Windows\")"
      ],
      "execution_count": 16,
      "outputs": [
        {
          "output_type": "stream",
          "text": [
            "C:\\\\Windows\n"
          ],
          "name": "stdout"
        }
      ]
    },
    {
      "cell_type": "code",
      "metadata": {
        "id": "6pp8Ks11f2Pe",
        "colab_type": "code",
        "colab": {
          "base_uri": "https://localhost:8080/",
          "height": 50
        },
        "outputId": "26424813-e0ce-413c-b1ee-f1c219c0e138"
      },
      "source": [
        "#5 다음 코드를 실행해보고 \\t와 \\n의 역할을 설명하라.\n",
        "print(\"안녕하세요.\\n만나서\\t\\t반갑습니다.\")\n",
        "# Assumption-> \\n = change in line, \\t tab"
      ],
      "execution_count": 7,
      "outputs": [
        {
          "output_type": "stream",
          "text": [
            "안녕하세요.\n",
            "만나서\t\t반갑습니다.\n"
          ],
          "name": "stdout"
        }
      ]
    },
    {
      "cell_type": "code",
      "metadata": {
        "id": "qGNJtmwBgBxZ",
        "colab_type": "code",
        "colab": {
          "base_uri": "https://localhost:8080/",
          "height": 33
        },
        "outputId": "67965255-8791-4d2e-9386-551b93daed13"
      },
      "source": [
        "#6 print 함수에 두 개의 단어를 입력한 예제이다. 아래 코드의 출력 결과를 예상하라.\n",
        "print (\"오늘은\", \"일요일\")\n",
        "# Assumption-> 오늘은, 일요일 -> comma도 없어진다!!!!! 공백만 남음"
      ],
      "execution_count": 8,
      "outputs": [
        {
          "output_type": "stream",
          "text": [
            "오늘은 일요일\n"
          ],
          "name": "stdout"
        }
      ]
    },
    {
      "cell_type": "code",
      "metadata": {
        "id": "xq_bdwYggNUb",
        "colab_type": "code",
        "colab": {
          "base_uri": "https://localhost:8080/",
          "height": 33
        },
        "outputId": "9f4bdab2-f527-4da6-c1e3-cd5b96f8297f"
      },
      "source": [
        "#7 print() 함수를 사용하여 다음과 같이 출력하라.\n",
        "#naver;kakao;sk;samsung #sep 사용!!!!\n",
        "print(\"naver\", \"kakao\", \"sk\", \"samsung\", sep=\";\")"
      ],
      "execution_count": 17,
      "outputs": [
        {
          "output_type": "stream",
          "text": [
            "naver;kakao;sk;samsung\n"
          ],
          "name": "stdout"
        }
      ]
    },
    {
      "cell_type": "code",
      "metadata": {
        "id": "Dz7uu9Wagbrq",
        "colab_type": "code",
        "colab": {
          "base_uri": "https://localhost:8080/",
          "height": 33
        },
        "outputId": "8024f842-1f02-4ced-fb8d-0b71e4c2a5f0"
      },
      "source": [
        "#8 print() 함수를 사용하여 다음과 같이 출력하라.\n",
        "#naver/kakao/sk/samsung\n",
        "print(\"naver\", \"kakao\", \"sk\", \"samsung\", sep=\"/\")"
      ],
      "execution_count": 18,
      "outputs": [
        {
          "output_type": "stream",
          "text": [
            "naver/kakao/sk/samsung\n"
          ],
          "name": "stdout"
        }
      ]
    },
    {
      "cell_type": "code",
      "metadata": {
        "id": "TfxupG_9gkP_",
        "colab_type": "code",
        "colab": {
          "base_uri": "https://localhost:8080/",
          "height": 33
        },
        "outputId": "e9ef2f7a-a23e-4a3c-e882-d8baf9b12d57"
      },
      "source": [
        "#9 다음 코드를 수정하여 줄바꿈이 없이 출력되도록 하라. (힌트: end='') print 함수는 두 번 사용한다. 세미콜론 (;)은 한줄에 여러 개의 명령을 작성하기 위해 사용된다.\n",
        "#print(\"first\");print(\"second\")\n",
        "print(\"first\", end=' '); print(\"second\", end='')"
      ],
      "execution_count": 20,
      "outputs": [
        {
          "output_type": "stream",
          "text": [
            "first second"
          ],
          "name": "stdout"
        }
      ]
    },
    {
      "cell_type": "code",
      "metadata": {
        "id": "ykH1frCPgv9e",
        "colab_type": "code",
        "colab": {
          "base_uri": "https://localhost:8080/",
          "height": 33
        },
        "outputId": "38e5d4f1-ed9f-45a6-e14a-4ccea772d71e"
      },
      "source": [
        "#10 string 문자열의 길이를 구하여라.\n",
        "string = \"dk2jd923i1jdk2jd93jfd92jd918943jfd8923\"\n",
        "len(string)"
      ],
      "execution_count": 13,
      "outputs": [
        {
          "output_type": "execute_result",
          "data": {
            "text/plain": [
              "38"
            ]
          },
          "metadata": {
            "tags": []
          },
          "execution_count": 13
        }
      ]
    },
    {
      "cell_type": "code",
      "metadata": {
        "id": "3hA70weng22V",
        "colab_type": "code",
        "colab": {
          "base_uri": "https://localhost:8080/",
          "height": 33
        },
        "outputId": "5c86b963-4c72-4e0a-db43-30ad7056a4ea"
      },
      "source": [
        "#11 아래 코드의 실행 결과를 예상하라. =>34\n",
        "a = \"3\"\n",
        "b = \"4\"\n",
        "print(a + b)"
      ],
      "execution_count": 21,
      "outputs": [
        {
          "output_type": "stream",
          "text": [
            "34\n"
          ],
          "name": "stdout"
        }
      ]
    },
    {
      "cell_type": "code",
      "metadata": {
        "id": "mMs4TFaoiHiZ",
        "colab_type": "code",
        "colab": {
          "base_uri": "https://localhost:8080/",
          "height": 33
        },
        "outputId": "4c41a841-6f51-4e98-c14f-8a57ca7f9edc"
      },
      "source": [
        "#12 변수 s와 t에는 각각 문자열이 바인딩 되어있다. hello! python를 출력하시오.\n",
        "s = \"hello\"\n",
        "t = \"python\"\n",
        "print(s+'! '+t)"
      ],
      "execution_count": 24,
      "outputs": [
        {
          "output_type": "stream",
          "text": [
            "hello! python\n"
          ],
          "name": "stdout"
        }
      ]
    },
    {
      "cell_type": "code",
      "metadata": {
        "id": "Q7ElCpGEiVg_",
        "colab_type": "code",
        "colab": {
          "base_uri": "https://localhost:8080/",
          "height": 33
        },
        "outputId": "b7e94304-6ebd-41b7-8eb1-da4d17816c3a"
      },
      "source": [
        "#13 아래 코드의 실행 결과를 예상하라. =>HiHiHI\n",
        "print(\"Hi\" * 3)"
      ],
      "execution_count": 25,
      "outputs": [
        {
          "output_type": "stream",
          "text": [
            "HiHiHi\n"
          ],
          "name": "stdout"
        }
      ]
    },
    {
      "cell_type": "code",
      "metadata": {
        "id": "eEARP_upiedY",
        "colab_type": "code",
        "colab": {
          "base_uri": "https://localhost:8080/",
          "height": 33
        },
        "outputId": "5fde2838-3ba8-43cf-b892-e753ccfb91dc"
      },
      "source": [
        "#14 화면에 '-'를 80개 출력하라.\n",
        "print('-'*80)"
      ],
      "execution_count": 26,
      "outputs": [
        {
          "output_type": "stream",
          "text": [
            "--------------------------------------------------------------------------------\n"
          ],
          "name": "stdout"
        }
      ]
    },
    {
      "cell_type": "code",
      "metadata": {
        "id": "5Y5xCrUqijSp",
        "colab_type": "code",
        "colab": {
          "base_uri": "https://localhost:8080/",
          "height": 33
        },
        "outputId": "e411638d-1995-4adf-ff76-79253d18dd5f"
      },
      "source": [
        "#15 변수에 다음과 같은 문자열이 바인딩되어 있다. 변수에 문자열 더하기와 문자열 곱하기를 사용해서 아래와 같이 출력하여라.\n",
        "# python java python java python java python java\n",
        "t1 = 'python'\n",
        "t2 = 'java'\n",
        "\n",
        "print((t1+' '+t2+' ')*4)"
      ],
      "execution_count": 42,
      "outputs": [
        {
          "output_type": "stream",
          "text": [
            "python java python java python java python java \n"
          ],
          "name": "stdout"
        }
      ]
    },
    {
      "cell_type": "code",
      "metadata": {
        "id": "Lp06U778iyfx",
        "colab_type": "code",
        "colab": {
          "base_uri": "https://localhost:8080/",
          "height": 33
        },
        "outputId": "8bb25e04-10ac-47da-96c7-5b4a5c1f981e"
      },
      "source": [
        "#16 LG전자 주식을 10주 보유하고 있습니다. 금일 종가 20,000원일 경우 총 평가 금액을 화면에 출력하라.\n",
        "\n",
        "print(20000*10)"
      ],
      "execution_count": 34,
      "outputs": [
        {
          "output_type": "stream",
          "text": [
            "200000\n"
          ],
          "name": "stdout"
        }
      ]
    },
    {
      "cell_type": "code",
      "metadata": {
        "id": "ogGv-c_djKMl",
        "colab_type": "code",
        "colab": {
          "base_uri": "https://localhost:8080/",
          "height": 33
        },
        "outputId": "656c63b2-9a47-4d58-c979-21c709ffec01"
      },
      "source": [
        "#17 아래 코드의 실행 결과를 예측하라. =>8\n",
        "# 2 + 2 * 3 \n",
        "2 + 2 * 3 "
      ],
      "execution_count": 35,
      "outputs": [
        {
          "output_type": "execute_result",
          "data": {
            "text/plain": [
              "8"
            ]
          },
          "metadata": {
            "tags": []
          },
          "execution_count": 35
        }
      ]
    },
    {
      "cell_type": "code",
      "metadata": {
        "id": "bM-05lWRjQZa",
        "colab_type": "code",
        "colab": {
          "base_uri": "https://localhost:8080/",
          "height": 33
        },
        "outputId": "ef2aba01-fb30-4ec8-d188-4e28993b387d"
      },
      "source": [
        "#18 type() 함수는 데이터 타입을 판별합니다. 변수 a에는 128 숫자가 바인딩돼 있어 type 함수가 int (정수)형임을 알려줍니다.\n",
        "#a = 128\n",
        "#print (type(a))\n",
        "#<class 'int'>\n",
        "\n",
        "a = \"132\" #=> 문자형\n",
        "type(a)"
      ],
      "execution_count": 38,
      "outputs": [
        {
          "output_type": "execute_result",
          "data": {
            "text/plain": [
              "str"
            ]
          },
          "metadata": {
            "tags": []
          },
          "execution_count": 38
        }
      ]
    },
    {
      "cell_type": "code",
      "metadata": {
        "id": "RiyjlCf9jbu-",
        "colab_type": "code",
        "colab": {
          "base_uri": "https://localhost:8080/",
          "height": 33
        },
        "outputId": "0d82e336-626f-4874-9713-42caab4c7392"
      },
      "source": [
        "#19 문자열 '720'를 정수형으로 변환하라.\n",
        "num_str = \"720\"\n",
        "int(num_str)"
      ],
      "execution_count": 41,
      "outputs": [
        {
          "output_type": "execute_result",
          "data": {
            "text/plain": [
              "720"
            ]
          },
          "metadata": {
            "tags": []
          },
          "execution_count": 41
        }
      ]
    },
    {
      "cell_type": "code",
      "metadata": {
        "id": "1UDYrz0-jm5b",
        "colab_type": "code",
        "colab": {
          "base_uri": "https://localhost:8080/",
          "height": 33
        },
        "outputId": "6f8a6a94-5337-4d8c-8cf1-65feb5dadae9"
      },
      "source": [
        "#20 정수 100을 문자열 '100'으로 변환하라.\n",
        "str(100)"
      ],
      "execution_count": 40,
      "outputs": [
        {
          "output_type": "execute_result",
          "data": {
            "text/plain": [
              "'100'"
            ]
          },
          "metadata": {
            "tags": []
          },
          "execution_count": 40
        }
      ]
    },
    {
      "cell_type": "code",
      "metadata": {
        "id": "ljF-70uTjq30",
        "colab_type": "code",
        "colab": {}
      },
      "source": [
        ""
      ],
      "execution_count": 0,
      "outputs": []
    }
  ]
}